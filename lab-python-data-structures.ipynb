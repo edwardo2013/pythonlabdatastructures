{
 "cells": [
  {
   "cell_type": "markdown",
   "metadata": {
    "tags": []
   },
   "source": [
    "# Lab | Data Structures "
   ]
  },
  {
   "cell_type": "markdown",
   "metadata": {},
   "source": [
    "## Exercise: Managing Customer Orders\n",
    "\n",
    "As part of a business venture, you are starting an online store that sells various products. To ensure smooth operations, you need to develop a program that manages customer orders and inventory.\n",
    "\n",
    "Follow the steps below to complete the exercise:\n",
    "\n",
    "1. Define a list called `products` that contains the following items: \"t-shirt\", \"mug\", \"hat\", \"book\", \"keychain\".\n",
    "\n",
    "2. Create an empty dictionary called `inventory`.\n",
    "\n",
    "3. Ask the user to input the quantity of each product available in the inventory. Use the product names from the `products` list as keys in the `inventory` dictionary and assign the respective quantities as values.\n",
    "\n",
    "4. Create an empty set called `customer_orders`.\n",
    "\n",
    "5. Ask the user to input the name of three products that a customer wants to order (from those in the products list, meaning three products out of \"t-shirt\", \"mug\", \"hat\", \"book\" or \"keychain\". Add each product name to the `customer_orders` set.\n",
    "\n",
    "6. Print the products in the `customer_orders` set.\n",
    "\n",
    "7. Calculate the following order statistics:\n",
    "   - Total Products Ordered: The total number of products in the `customer_orders` set.\n",
    "   - Percentage of Products Ordered: The percentage of products ordered compared to the total available products.\n",
    "   \n",
    "   Store these statistics in a tuple called `order_status`.\n",
    "\n",
    "8. Print the order statistics using the following format:\n",
    "   ```\n",
    "   Order Statistics:\n",
    "   Total Products Ordered: <total_products_ordered>\n",
    "   Percentage of Products Ordered: <percentage_ordered>% \n",
    "   ```\n",
    "\n",
    "9. Update the inventory by subtracting 1 from the quantity of each product. Modify the `inventory` dictionary accordingly.\n",
    "\n",
    "10. Print the updated inventory, displaying the quantity of each product on separate lines.\n",
    "\n",
    "Solve the exercise by implementing the steps using the Python concepts of lists, dictionaries, sets, and basic input/output operations. "
   ]
  },
  {
   "cell_type": "code",
   "execution_count": 48,
   "metadata": {},
   "outputs": [
    {
     "name": "stdout",
     "output_type": "stream",
     "text": [
      "Enter the quantity of t-shirt that we have in inventory: 3\n",
      "Enter the quantity of mug that we have in inventory: 5\n",
      "Enter the quantity of hat that we have in inventory: 4\n",
      "Enter the quantity of book that we have in inventory: 3\n",
      "Enter the quantity of keychain that we have in inventory: 2\n",
      "\n",
      "Enter the name of the product that the customer wants: mug\n",
      "\n",
      "Enter the name of the product that the customer wants: book\n",
      "\n",
      "Enter the name of the product that the customer wants: keychain\n",
      "Client ordered: keychain\n",
      "Client ordered: mug\n",
      "Client ordered: book\n",
      "\n",
      "Order Statistics:\n",
      "Total Products Ordered: 3\n",
      "Percentage of Products Ordered: 60.0 %\n",
      "{'t-shirt': 3, 'mug': 4, 'hat': 4, 'book': 2, 'keychain': 1}\n",
      "Item t-shirt has 3 in inventory\n",
      "Item mug has 4 in inventory\n",
      "Item hat has 4 in inventory\n",
      "Item book has 2 in inventory\n",
      "Item keychain has 1 in inventory\n"
     ]
    }
   ],
   "source": [
    "# Init variables\n",
    "products = [\"t-shirt\", \"mug\", \"hat\", \"book\", \"keychain\"] # list, step 1\n",
    "inventory = {} # dictonary, step 2\n",
    "customer_orders = set() # step 4. Sets in Python are unordered collections of unique elements defined using curly braces {} or the set() function. #They can contain elements of different data types, do not allow duplicates, and are mutable. Sets support operations like union, intersection, and difference.\n",
    "\n",
    "# iterate and ask inventory per product (no input val?) step 3\n",
    "for product in products:\n",
    "    quantity = input(f\"Enter the quantity of {product} that we have in inventory: \")\n",
    "    while not quantity.isdigit(): # dont want float\n",
    "        grade = input(f\"Not a number, Please enter the quantity of {product} that we have in inventory:\")\n",
    "    inventory[product] = int(quantity) # convert to integer and save to dictionary. \n",
    "   # inventory.update\n",
    "\n",
    "# ask the user for the 3 names of the products that the customer wants, step 5\n",
    "for i in range(1,4):\n",
    "    customer_product = input(\"\\nEnter the name of the product that the customer wants: \")\n",
    "    while (customer_product not in products) or (customer_product in customer_orders):\n",
    "        customer_product = input(\"Not in list. Enter the name of the product that the customer wants: \")\n",
    "    customer_orders.add(customer_product)# add to the order\n",
    "\n",
    "\n",
    "# print customer order, step 6\n",
    "for y in customer_orders:\n",
    "    print(\"Client ordered:\",y)\n",
    "\n",
    "#-----------------------\n",
    "# get the inventory numbers and store it, step 7\n",
    "total_prod = len(customer_orders)\n",
    "percentage = len(customer_orders)/len(products) * 100\n",
    "order_status = (total_prod,percentage)\n",
    "\n",
    "# print order status step 8\n",
    "print(\"\\nOrder Statistics:\\nTotal Products Ordered:\", order_status[0])\n",
    "print(\"Percentage of Products Ordered:\", order_status[1], \"%\")\n",
    "\n",
    "# decrement product inventory, step 9\n",
    "for product in customer_orders:\n",
    "    inventory[product] -= 1\n",
    "\n",
    "# print updated inventory, step 10\n",
    "for item,value in inventory.items():\n",
    "    print(f\"Item {item} has {value} in inventory\")"
   ]
  },
  {
   "cell_type": "code",
   "execution_count": null,
   "metadata": {},
   "outputs": [],
   "source": [
    "# Init variables\n",
    "products = [\"t-shirt\", \"mug\", \"hat\", \"book\", \"keychain\"] # list\n",
    "inventory = {} # dictonary\n",
    "customer_orders = set() # Sets in Python are unordered collections of unique elements defined using curly braces {} or the set() function. #They can contain elements of different data types, do not allow duplicates, and are mutable. Sets support operations like union, intersection, and difference.\n",
    "\n",
    "# iterate and ask inventory per product (no input val?) \n",
    "for product in products:\n",
    "    quantity = input(f\"Enter the quantity of {product} that we have in inventory: \")\n",
    "    inventory[product] = int(quantity) # convert to integer and save to dictionary. \n",
    "\n",
    "    # ask the user for the 3 names of the products that the customer wants\n",
    "for i in range(1,4):\n",
    "    customer_product = input(\"\\nEnter the name of the product that the customer wants: \")\n",
    "    while (customer_product not in products) or (customer_product in customer_orders):\n",
    "        customer_product = input(\"Not in list or already ordered. Enter the name of the product that the customer wants: \")\n",
    "    customer_orders.add(customer_product)# add to the\n",
    "print (i)\n",
    "# print customer order\n",
    "for y in customer_orders:\n",
    "    print(\"Client ordered\",i)\n",
    "\n",
    "#-----------------------\n",
    "# get the inventory numbers\n",
    "total_inv = sum(inventory.values())\n",
    "percentage = (len(customer_orders)/total_inv) * 100\n",
    "\n",
    "\n",
    "# print order status\n",
    "order_status = (len(customer_orders),percentage)\n",
    "print(\"\\nOrder Statistics:\\nTotal Products Ordered:\", order_status[0])\n",
    "print(\"Percentage of Products Ordered:\", order_status[1], \"%\")\n",
    "\n"
   ]
  },
  {
   "cell_type": "code",
   "execution_count": 23,
   "metadata": {},
   "outputs": [
    {
     "data": {
      "text/plain": [
       "0.3"
      ]
     },
     "execution_count": 23,
     "metadata": {},
     "output_type": "execute_result"
    }
   ],
   "source": [
    "x = 10\n",
    "y = 3\n",
    "3/10"
   ]
  }
 ],
 "metadata": {
  "kernelspec": {
   "display_name": "Python 3 (ipykernel)",
   "language": "python",
   "name": "python3"
  },
  "language_info": {
   "codemirror_mode": {
    "name": "ipython",
    "version": 3
   },
   "file_extension": ".py",
   "mimetype": "text/x-python",
   "name": "python",
   "nbconvert_exporter": "python",
   "pygments_lexer": "ipython3",
   "version": "3.11.5"
  }
 },
 "nbformat": 4,
 "nbformat_minor": 4
}
